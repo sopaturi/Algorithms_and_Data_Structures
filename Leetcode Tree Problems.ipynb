{
 "cells": [
  {
   "cell_type": "markdown",
   "metadata": {},
   "source": [
    "# Leetcode Tree Problems"
   ]
  },
  {
   "cell_type": "markdown",
   "metadata": {},
   "source": [
    "#98 Given a binary tree, determine if it is a valid binary search tree (BST).\n",
    "\n",
    "Assume a BST is defined as follows:\n",
    "\n",
    "The left subtree of a node contains only nodes with keys less than the node's key.\n",
    "The right subtree of a node contains only nodes with keys greater than the node's key.\n",
    "Both the left and right subtrees must also be binary search trees.\n",
    " "
   ]
  },
  {
   "cell_type": "code",
   "execution_count": null,
   "metadata": {},
   "outputs": [],
   "source": [
    "#Time Complexity O(n), Space Complexity: O(n)\n",
    "class Solution:\n",
    "       \n",
    "        \n",
    "    def inOrder(self, root, output):\n",
    "            if root is None:\n",
    "                return\n",
    "\n",
    "            self.inOrder(root.left, output)\n",
    "            output.append(root.val)\n",
    "            self.inOrder(root.right, output)\n",
    "    def isValidBST(self, root):\n",
    "        output = []\n",
    "        self.inOrder(root, output)\n",
    "        \n",
    "        for i in range(1, len(output)):\n",
    "            if output[i-1] >= output[i]:\n",
    "                return False\n",
    "\n",
    "        return True\n",
    "    \n",
    "\n",
    "\n",
    "\n",
    "       "
   ]
  },
  {
   "cell_type": "markdown",
   "metadata": {},
   "source": [
    "#102 Given a binary tree, return the level order traversal of its nodes' values. (ie, from left to right, level by level)."
   ]
  },
  {
   "cell_type": "code",
   "execution_count": null,
   "metadata": {},
   "outputs": [],
   "source": [
    "#Time Complexity: O(n), Space Complexity: O(n)\n",
    "# Definition for a binary tree node.\n",
    "# class TreeNode:\n",
    "#     def __init__(self, x):\n",
    "#         self.val = x\n",
    "#         self.left = None\n",
    "#         self.right = None\n",
    "\n",
    "class Solution:\n",
    "    def levelOrder(self, root: TreeNode) -> List[List[int]]:\n",
    "        output=[]\n",
    "        if not root:\n",
    "            return output\n",
    "        queue=[root]\n",
    "        \n",
    "        while queue:\n",
    "            lvl=[]\n",
    "            for i in range(len(queue)):\n",
    "                node=queue.pop(0)\n",
    "                lvl.append(node.val)\n",
    "                if node.left:\n",
    "                    queue.append(node.left)\n",
    "                if node.right:\n",
    "                    queue.append(node.right)\n",
    "               \n",
    "            output.append(lvl)\n",
    "                \n",
    "        return output\n",
    "                "
   ]
  },
  {
   "cell_type": "markdown",
   "metadata": {},
   "source": [
    "\n",
    "#104 Maximum depth of Binary Search Tree\n",
    "\n",
    "Given a binary tree, find its maximum depth.\n",
    "\n",
    "The maximum depth is the number of nodes along the longest path from the root node down to the farthest leaf node.\n",
    "\n",
    "Note: A leaf is a node with no children."
   ]
  },
  {
   "cell_type": "code",
   "execution_count": null,
   "metadata": {},
   "outputs": [],
   "source": [
    "#Time Complexity: O(n), Space Complexity: O(n)\n",
    "class Solution:\n",
    "    def maxDepth(self, root: TreeNode) -> int:\n",
    "        depth=0\n",
    "        if not root:\n",
    "            return 0\n",
    "       \n",
    "        \n",
    "        queue=[root]\n",
    "        \n",
    "        while queue:\n",
    "            depth+=1\n",
    "            for i in range(len(queue)):\n",
    "                node=queue.pop(0)\n",
    "                \n",
    "                \n",
    "                if node.left:\n",
    "                    queue.append(node.left)\n",
    "                    \n",
    "                if node.right:\n",
    "                    queue.append(node.right)\n",
    "                    \n",
    "        \n",
    "        return depth "
   ]
  },
  {
   "cell_type": "markdown",
   "metadata": {},
   "source": [
    "#108. Convert Sorted Array to Binary Search Tree <br>\n",
    "Given an array where elements are sorted in ascending order, convert it to a height balanced BST.\n",
    "\n",
    "For this problem, a height-balanced binary tree is defined as a binary tree in which the depth of the two subtrees of every node never differ by more than 1."
   ]
  },
  {
   "cell_type": "code",
   "execution_count": null,
   "metadata": {},
   "outputs": [],
   "source": [
    "# Definition for a binary tree node.\n",
    "# class TreeNode:\n",
    "#     def __init__(self, x):\n",
    "#         self.val = x\n",
    "#         self.left = None\n",
    "#         self.right = None\n",
    "\n",
    "#Time Complexity: O(n), Space Complexity: O(n)\n",
    "class Solution:\n",
    "    def sortedArrayToBST(self, nums: List[int]) -> TreeNode:\n",
    "        \n",
    "       \n",
    "        \n",
    "        if not nums:\n",
    "            return None\n",
    "        \n",
    "        median=len(nums)//2\n",
    "        node=TreeNode(nums[median])\n",
    "        node.left=self.sortedArrayToBST(nums[:median])\n",
    "        node.right=self.sortedArrayToBST(nums[median+1:])\n",
    "        \n",
    "        \n",
    "        return node\n",
    "        "
   ]
  },
  {
   "cell_type": "markdown",
   "metadata": {},
   "source": [
    "#94 Binary Tree Inorder Traversal\n",
    "\n",
    "Given a binary tree, return the inorder traversal of its nodes' values."
   ]
  },
  {
   "cell_type": "code",
   "execution_count": null,
   "metadata": {},
   "outputs": [],
   "source": [
    "#Time Complexity: O(n), Space Complexity: O(n)\n",
    "class Solution:\n",
    "    def inorderTraversal(self, root: TreeNode) -> List[int]:\n",
    "        listing=[]\n",
    "        if not root:\n",
    "            return listing\n",
    "\n",
    "        return self.traverse(root, listing)\n",
    "    \n",
    "    def traverse(self, root, listing):\n",
    "        if root.left:\n",
    "            self.traverse(root.left, listing)\n",
    "        listing.append(root.val)\n",
    "        if root.right:\n",
    "            self.traverse(root.right, listing)\n",
    "        \n",
    "        return listing\n",
    "        "
   ]
  },
  {
   "cell_type": "markdown",
   "metadata": {},
   "source": [
    "#116 Populating Next Right Pointers in Each Node <br>\n",
    "You are given a perfect binary tree where all leaves are on the same level, and every parent has two children. The binary tree has the following definition:\n",
    "struct Node { int val; Node left; Node right; Node *next; } Populate each next pointer to point to its next right node. If there is no next right node, the next pointer should be set to NULL."
   ]
  },
  {
   "cell_type": "code",
   "execution_count": null,
   "metadata": {},
   "outputs": [],
   "source": [
    "#Time: O(n), Space Complexity: O(1)\n",
    "def connect2(self, root):\n",
    "    if not root:\n",
    "        return \n",
    "    queue = [root]\n",
    "    while queue:\n",
    "        curr = queue.pop(0)\n",
    "        if curr.left and curr.right:\n",
    "            curr.left.next = curr.right\n",
    "            if curr.next:\n",
    "                curr.right.next = curr.next.left\n",
    "            queue.append(curr.left)\n",
    "            queue.append(curr.right)\n",
    "    \n",
    "    return root\n",
    "\n",
    "class Solution:\n",
    "    def connect(self, root: 'Node') -> 'Node':\n",
    "        if not root:\n",
    "            return root\n",
    "        \n",
    "        if root and root.left and root.right:\n",
    "            root.left.next=root.right\n",
    "        \n",
    "            if root.next:\n",
    "                root.right.next=root.next.left\n",
    "        \n",
    "        \n",
    "        \n",
    "        self.connect(root.left)\n",
    "        self.connect(root.right)\n",
    "        \n",
    "        return root\n",
    "            "
   ]
  },
  {
   "cell_type": "markdown",
   "metadata": {},
   "source": [
    "#200 Number of Islands <br>\n",
    "Given a 2d grid map of '1's (land) and '0's (water), count the number of islands. An island is surrounded by water and is formed by connecting adjacent lands horizontally or vertically. You may assume all four edges of the grid are all surrounded by water."
   ]
  },
  {
   "cell_type": "code",
   "execution_count": null,
   "metadata": {},
   "outputs": [],
   "source": [
    "#Time: O(n*m), Space Complexity: O(1)\n",
    "class Solution:\n",
    "    def traverse(self, grid, i, j, height, width):\n",
    "        if (0<=i < len(grid)) and (0<=j<len(grid[0]) and grid[i][j] == \"1\"):\n",
    "            grid[i][j]=\"0\"\n",
    "\n",
    "\n",
    "            self.traverse(grid, i-1, j, height, width)\n",
    "            self.traverse(grid, i+1, j, height, width)\n",
    "            self.traverse(grid, i, j+1, height, width)\n",
    "            self.traverse(grid, i, j-1, height, width)\n",
    "        \n",
    "        \n",
    "        \n",
    "    def numIslands(self, grid: List[List[str]]) -> int:\n",
    "        \n",
    "        counter=0\n",
    "        \n",
    "        for i in range(len(grid)):\n",
    "            for j in range(len(grid[0])):\n",
    "                if (grid[i][j] == \"0\"):\n",
    "                    continue\n",
    "                else:\n",
    "                    counter+=1\n",
    "                    output=self.traverse(grid, i,j, len(grid), len(grid[0]))\n",
    "        \n",
    "        return counter  "
   ]
  }
 ],
 "metadata": {
  "kernelspec": {
   "display_name": "Python 3",
   "language": "python",
   "name": "python3"
  },
  "language_info": {
   "codemirror_mode": {
    "name": "ipython",
    "version": 3
   },
   "file_extension": ".py",
   "mimetype": "text/x-python",
   "name": "python",
   "nbconvert_exporter": "python",
   "pygments_lexer": "ipython3",
   "version": "3.6.5"
  }
 },
 "nbformat": 4,
 "nbformat_minor": 2
}
