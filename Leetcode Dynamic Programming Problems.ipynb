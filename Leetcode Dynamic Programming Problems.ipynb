{
 "cells": [
  {
   "cell_type": "markdown",
   "metadata": {},
   "source": [
    "# Leetcode Dynamic Programming Problems"
   ]
  },
  {
   "cell_type": "markdown",
   "metadata": {},
   "source": [
    "#53 Maximum Subarray <br>\n",
    "Given an integer array nums, find the contiguous subarray (containing at least one number) which has the largest sum and return its sum."
   ]
  },
  {
   "cell_type": "code",
   "execution_count": null,
   "metadata": {},
   "outputs": [],
   "source": [
    "#Time Complexity: O(n), Space Complexity: O(1)\n",
    "class Solution:\n",
    "    def maxSubArray(self, nums: List[int]) -> int:\n",
    "        max_sum=sum_so_far=nums[0]\n",
    "        \n",
    "        for i in range(1, len(nums)):\n",
    "            print(sum_so_far)\n",
    "            if sum_so_far<0:\n",
    "                sum_so_far=nums[i]\n",
    "                if sum_so_far>max_sum:\n",
    "                    max_sum=sum_so_far\n",
    "                       \n",
    "            \n",
    "            else:\n",
    "                sum_so_far+=nums[i]\n",
    "                if sum_so_far>max_sum:\n",
    "                    max_sum=sum_so_far\n",
    "        \n",
    "        return max_sum"
   ]
  },
  {
   "cell_type": "markdown",
   "metadata": {},
   "source": [
    "#70 Climbing Stairs <br>\n",
    "\n",
    "You are climbing a stair case. It takes n steps to reach to the top.\n",
    "\n",
    "Each time you can either climb 1 or 2 steps. In how many distinct ways can you climb to the top?"
   ]
  },
  {
   "cell_type": "code",
   "execution_count": null,
   "metadata": {},
   "outputs": [],
   "source": [
    "#Time Complexity: O(n), Space Complexity: O(n)\n",
    "class Solution:\n",
    "    def climbStairs(self, n: int) -> int:\n",
    "       \n",
    "\n",
    "        if n == 1:\n",
    "            return 1\n",
    "        res = [0 for i in range(n)]\n",
    "        res[0], res[1] = 1, 2\n",
    "        for i in range(2, n):\n",
    "            res[i] = res[i-1] + res[i-2]\n",
    "        return res[-1]"
   ]
  },
  {
   "cell_type": "markdown",
   "metadata": {},
   "source": [
    "122. Best Time to Buy and Sell Stock II\n",
    "\n",
    "Say you have an array prices for which the ith element is the price of a given stock on day i.\n",
    "\n",
    "Design an algorithm to find the maximum profit. You may complete as many transactions as you like (i.e., buy one and sell one share of the stock multiple times)."
   ]
  },
  {
   "cell_type": "code",
   "execution_count": null,
   "metadata": {},
   "outputs": [],
   "source": [
    "#Time Complexity: O(n), Space Complexity: O(1)\n",
    "class Solution:\n",
    "    def maxProfit(self, prices: List[int]) -> int:\n",
    "        if not prices:\n",
    "            return 0\n",
    "        min_so_far=prices[0]\n",
    "        greatest_profit=0\n",
    "        \n",
    "        for i in range(1, len(prices)):\n",
    "            if prices[i]<min_so_far:\n",
    "                min_so_far=prices[i]\n",
    "            if prices[i]-min_so_far>0:\n",
    "                greatest_profit+=prices[i]-min_so_far\n",
    "                min_so_far=prices[i]\n",
    "            \n",
    "        return greatest_profit\n",
    "            "
   ]
  }
 ],
 "metadata": {
  "kernelspec": {
   "display_name": "Python 3",
   "language": "python",
   "name": "python3"
  },
  "language_info": {
   "codemirror_mode": {
    "name": "ipython",
    "version": 3
   },
   "file_extension": ".py",
   "mimetype": "text/x-python",
   "name": "python",
   "nbconvert_exporter": "python",
   "pygments_lexer": "ipython3",
   "version": "3.6.5"
  }
 },
 "nbformat": 4,
 "nbformat_minor": 2
}
