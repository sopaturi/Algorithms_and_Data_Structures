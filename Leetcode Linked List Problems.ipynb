{
 "cells": [
  {
   "cell_type": "markdown",
   "metadata": {},
   "source": [
    "# Leetcode Linked List Problems"
   ]
  },
  {
   "cell_type": "markdown",
   "metadata": {},
   "source": [
    "#21 Merge Two Sorted Lists\n",
    "\n",
    "Share\n",
    "Merge two sorted linked lists and return it as a new list. The new list should be made by splicing together the nodes of the first two lists.\n",
    "\n",
    "Example:\n",
    "\n",
    "Input: 1->2->4, 1->3->4\n",
    "Output: 1->1->2->3->4->4"
   ]
  },
  {
   "cell_type": "code",
   "execution_count": null,
   "metadata": {},
   "outputs": [],
   "source": [
    "#Time Complexity O(m+n), Space Complexity O(1)\n",
    "class Solution:\n",
    "    def mergeTwoLists(self, l1: ListNode, l2: ListNode) -> ListNode:\n",
    "        head=curr=ListNode(None)\n",
    "        \n",
    "        while l1 and l2:\n",
    "            if l1.val < l2.val:\n",
    "                curr.next=l1\n",
    "                l1=l1.next\n",
    "                curr=curr.next\n",
    "            else:\n",
    "                curr.next=l2\n",
    "                l2=l2.next\n",
    "                curr=curr.next\n",
    "        if l1:\n",
    "            curr.next=l1\n",
    "        else:\n",
    "            curr.next=l2\n",
    "        \n",
    "        return head.next"
   ]
  },
  {
   "cell_type": "markdown",
   "metadata": {},
   "source": [
    "#141 Linked List Cycle\n",
    "\n",
    "Given a linked list, determine if it has a cycle in it.\n",
    "\n",
    "To represent a cycle in the given linked list, we use an integer pos which represents the position (0-indexed) in the linked list where tail connects to. If pos is -1, then there is no cycle in the linked list."
   ]
  },
  {
   "cell_type": "code",
   "execution_count": null,
   "metadata": {},
   "outputs": [],
   "source": [
    "#Time Complexity: O(n), Space Complexity: O(1)\n",
    "\n",
    "\n",
    "# Definition for singly-linked list.\n",
    "# class ListNode:\n",
    "#     def __init__(self, x):\n",
    "#         self.val = x\n",
    "#         self.next = None\n",
    "\n",
    "class Solution:\n",
    "    def hasCycle(self, head: ListNode) -> bool:\n",
    "        if not head:\n",
    "            return False\n",
    "        \n",
    "        slow=head\n",
    "        fast=head\n",
    "        \n",
    "        try:\n",
    "            while head:\n",
    "                slow=slow.next\n",
    "                fast=fast.next.next\n",
    "                if slow is fast:\n",
    "                    return True\n",
    "            \n",
    "        \n",
    "        except:\n",
    "            return False"
   ]
  },
  {
   "cell_type": "markdown",
   "metadata": {},
   "source": [
    "#206 Reverse a singly linked list.\n",
    "\n",
    "Example:\n",
    "\n",
    "Input: 1->2->3->4->5->NULL\n",
    "Output: 5->4->3->2->1->NULL"
   ]
  },
  {
   "cell_type": "code",
   "execution_count": null,
   "metadata": {},
   "outputs": [],
   "source": [
    "#Time Complexity: O(n), Space Complexity: O(n)\n",
    "class Solution:\n",
    "    def reverseList(self, head: ListNode) -> ListNode:\n",
    "        reverse=None\n",
    "        while head:\n",
    "            transfer_node=head\n",
    "            head=head.next\n",
    "            transfer_node.next=reverse\n",
    "            reverse=transfer_node\n",
    "        \n",
    "        \n",
    "        \n",
    "        \n",
    "        return reverse\n",
    "            "
   ]
  },
  {
   "cell_type": "markdown",
   "metadata": {},
   "source": [
    "2. Add Two Numbers\n",
    "\n",
    "You are given two non-empty linked lists representing two non-negative integers. The digits are stored in reverse order and each of their nodes contain a single digit. Add the two numbers and return it as a linked list.\n",
    "\n",
    "You may assume the two numbers do not contain any leading zero, except the number 0 itself."
   ]
  },
  {
   "cell_type": "code",
   "execution_count": null,
   "metadata": {},
   "outputs": [],
   "source": [
    "Time Complexity: O(m+n), Space Complexity: O(max(m,n))\n",
    "# Definition for singly-linked list.\n",
    "# class ListNode:\n",
    "#     def __init__(self, x):\n",
    "#         self.val = x\n",
    "#         self.next = None\n",
    "\n",
    "class Solution:\n",
    "    def addTwoNumbers(self, l1: ListNode, l2: ListNode) -> ListNode:\n",
    "        sentinel=ListNode(None)\n",
    "        curr=sentinel\n",
    "        carry=0\n",
    "        while (l1 or l2):\n",
    "            l1_val, l2_val=0,0\n",
    "            if (l1):\n",
    "                l1_val=l1.val\n",
    "                l1=l1.next\n",
    "            if (l2):\n",
    "                l2_val=l2.val\n",
    "                l2=l2.next\n",
    "        \n",
    "            total=l1_val+l2_val+carry\n",
    "            curr.next=ListNode(total%10)\n",
    "            curr=curr.next\n",
    "            carry=total//10\n",
    "        if carry:\n",
    "            curr.next=ListNode(carry)\n",
    "            \n",
    "        return sentinel.next\n"
   ]
  },
  {
   "cell_type": "markdown",
   "metadata": {},
   "source": [
    "#160 Intersection of Two Linked Lists <br>\n",
    "Write a program to find the node at which the intersection of two singly linked lists begins."
   ]
  },
  {
   "cell_type": "code",
   "execution_count": null,
   "metadata": {},
   "outputs": [],
   "source": [
    "Time Complexity O(m+n), Space Complexity: O(m+n)\n",
    "# Definition for singly-linked list.\n",
    "# class ListNode:\n",
    "#     def __init__(self, x):\n",
    "#         self.val = x\n",
    "#         self.next = None\n",
    "\n",
    "class Solution:\n",
    "    def getIntersectionNode(self, headA: ListNode, headB: ListNode) -> ListNode:\n",
    "        list_A=set()\n",
    "        \n",
    "        while headA:\n",
    "            list_A.add(headA)\n",
    "            headA=headA.next\n",
    "        while headB:\n",
    "            if headB in list_A:\n",
    "                return headB\n",
    "            headB=headB.next\n",
    "        \n",
    "        return None\n",
    "        "
   ]
  }
 ],
 "metadata": {
  "kernelspec": {
   "display_name": "Python 3",
   "language": "python",
   "name": "python3"
  },
  "language_info": {
   "codemirror_mode": {
    "name": "ipython",
    "version": 3
   },
   "file_extension": ".py",
   "mimetype": "text/x-python",
   "name": "python",
   "nbconvert_exporter": "python",
   "pygments_lexer": "ipython3",
   "version": "3.6.5"
  }
 },
 "nbformat": 4,
 "nbformat_minor": 2
}
