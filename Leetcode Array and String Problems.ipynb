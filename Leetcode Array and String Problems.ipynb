{
 "cells": [
  {
   "cell_type": "markdown",
   "metadata": {},
   "source": [
    "# Leetcode Array and String Problems"
   ]
  },
  {
   "cell_type": "markdown",
   "metadata": {},
   "source": [
    "#1 Two Sum\n",
    "\n",
    "Given an array of integers, return indices of the two numbers such that they add up to a specific target.\n",
    "\n",
    "You may assume that each input would have exactly one solution, and you may not use the same element twice.\n",
    "\n",
    "Given nums = [2, 7, 11, 15], target = 9,\n",
    "\n",
    "Because nums[0] + nums[1] = 2 + 7 = 9,\n",
    "return [0, 1]."
   ]
  },
  {
   "cell_type": "code",
   "execution_count": null,
   "metadata": {},
   "outputs": [],
   "source": [
    "\n",
    "#Time Complexity: (O(n)), Space Complexity: O(n)\n",
    "class Solution:\n",
    "    def twoSum(self, nums: List[int], target: int) -> List[int]:\n",
    "        seen_before={}\n",
    "        for i in range(len(nums)):\n",
    "            complement=target-nums[i]\n",
    "            if nums[i] in seen_before.keys():\n",
    "                return[seen_before[nums[i]], i]\n",
    "            seen_before[complement]=i\n",
    "\n",
    "            \n",
    "#Time Complexity: (O(n^2)), Space Complexity: O(n)\n",
    "class Solution:\n",
    "    def twoSum(self, nums: List[int], target: int) -> List[int]:\n",
    "        for i in range(len(nums)-1):\n",
    "            for j in range(i+1, len(nums)):\n",
    "                if nums[i]+nums[j]==target:\n",
    "                    return[i,j]\n",
    "           "
   ]
  },
  {
   "cell_type": "markdown",
   "metadata": {},
   "source": [
    "#136 Single Number\n",
    "\n",
    "Given a non-empty array of integers, every element appears twice except for one. Find that single one."
   ]
  },
  {
   "cell_type": "code",
   "execution_count": null,
   "metadata": {},
   "outputs": [],
   "source": [
    "#Time Complexity: O(n) and Space Complexity: O(n)\n",
    "class Solution:\n",
    "    def singleNumber(self, nums: List[int]) -> int:\n",
    "        counts={}\n",
    "        for i in range(len(nums)):\n",
    "            if nums[i] not in counts:\n",
    "                counts[nums[i]]=1\n",
    "            else:\n",
    "                counts[nums[i]]+=1\n",
    "        \n",
    "        for i in counts:\n",
    "            if counts[i]==1:\n",
    "                return i\n",
    "            \n",
    "#Time Complexity: O(n) and Space Complexity: O(1)\n",
    "            \n",
    "class Solution:\n",
    "    def singleNumber(self, nums: List[int]) -> int:\n",
    "        count=0\n",
    "        for i in nums:\n",
    "            count=count^i\n",
    "        return count"
   ]
  },
  {
   "cell_type": "markdown",
   "metadata": {},
   "source": [
    "#189 Given an array, rotate the array to the right by k steps, where k is non-negative."
   ]
  },
  {
   "cell_type": "code",
   "execution_count": null,
   "metadata": {},
   "outputs": [],
   "source": [
    "#Time Complexity: O(n), Space Complexity: O(n)\n",
    "\n",
    "class Solution:\n",
    "    def rotate(self, nums: List[int], k: int) -> None:\n",
    "        \"\"\"\n",
    "        Do not return anything, modify nums in-place instead.\n",
    "        \"\"\"\n",
    "        \n",
    "        net_shift=k%len(nums)\n",
    "        output=[0]*len(nums)\n",
    "        for i in range(len(nums)):\n",
    "            output[i]=nums[i-net_shift]\n",
    "            \n",
    "        for i in range(len(nums)):\n",
    "            nums[i]=output[i]"
   ]
  },
  {
   "cell_type": "markdown",
   "metadata": {},
   "source": [
    "#350 Intersection of Two Arrays\n",
    "\n",
    "Given two arrays, write a function to compute their intersection.\n",
    "\n",
    "Example 1:\n",
    "\n",
    "Input: nums1 = [1,2,2,1], nums2 = [2,2]\n",
    "Output: [2,2]\n",
    "Example 2:\n",
    "\n",
    "Input: nums1 = [4,9,5], nums2 = [9,4,9,8,4]\n",
    "Output: [4,9]"
   ]
  },
  {
   "cell_type": "code",
   "execution_count": null,
   "metadata": {},
   "outputs": [],
   "source": [
    "\n",
    "#Time Complexity(O(m+n)), Space Complexity:(O(m+n))\n",
    "class Solution:\n",
    "    def intersect(self, nums1: List[int], nums2: List[int]) -> List[int]:\n",
    "        dict1={}\n",
    "        dict2={}\n",
    "        output=[]\n",
    "        for i in nums1:\n",
    "            if i not in dict1:\n",
    "                dict1[i]=1\n",
    "            else:\n",
    "                dict1[i]+=1\n",
    "        for i in nums2:\n",
    "            if i not in dict2:\n",
    "                dict2[i]=1\n",
    "            else:\n",
    "                dict2[i]+=1\n",
    "                \n",
    "        print(dict1)\n",
    "        print(dict2)\n",
    "        \n",
    "        for i in dict1.keys():\n",
    "            if i in dict2.keys():\n",
    "                if dict1[i]<=dict2[i]:\n",
    "                    for j in range(dict1[i]):\n",
    "                        output.append(i)\n",
    "                else:\n",
    "                    for j in range(dict2[i]):\n",
    "                        output.append(i)\n",
    "                \n",
    "                \n",
    "        \n",
    "        return output\n",
    "    \n",
    "    \n",
    "#Time Complexity O(nlogn + mlogm) #Space Complexity (min(m,n))  \n",
    "class Solution:\n",
    "    def intersect(self, nums1: List[int], nums2: List[int]) -> List[int]:\n",
    "        nums1.sort()\n",
    "        nums2.sort()\n",
    "        output=[]\n",
    "        i=0\n",
    "        j=0\n",
    "        while (i < len(nums1)) and (j < len(nums2)):\n",
    "                if nums1[i]==nums2[j]:\n",
    "                    output.append(nums1[i])\n",
    "                    i+=1\n",
    "                    j+=1\n",
    "                elif nums1[i]<nums2[j]:\n",
    "                    i+=1\n",
    "                else:\n",
    "                    j+=1\n",
    "        return output\n",
    "\n",
    "    \n",
    "    "
   ]
  },
  {
   "cell_type": "markdown",
   "metadata": {},
   "source": [
    "#8 String to integer\n",
    "\n",
    "Implement atoi which converts a string to an integer.\n",
    "\n",
    "The function first discards as many whitespace characters as necessary until the first non-whitespace character is found. Then, starting from this character, takes an optional initial plus or minus sign followed by as many numerical digits as possible, and interprets them as a numerical value.\n",
    "\n",
    "The string can contain additional characters after those that form the integral number, which are ignored and have no effect on the behavior of this function.\n",
    "\n",
    "If the first sequence of non-whitespace characters in str is not a valid integral number, or if no such sequence exists because either str is empty or it contains only whitespace characters, no conversion is performed.\n",
    "\n",
    "If no valid conversion could be performed, a zero value is returned."
   ]
  },
  {
   "cell_type": "code",
   "execution_count": null,
   "metadata": {},
   "outputs": [],
   "source": [
    "#Time Complexity O(n), Space Complexity(O(1))\n",
    "class Solution:\n",
    "    def myAtoi(self, str: str) -> int:\n",
    "        num=0\n",
    "        if not str:\n",
    "            return num\n",
    "        \n",
    "        i=0\n",
    "        while (str[i]== \" \"):\n",
    "            if (i == (len(str)-1)):\n",
    "                return 0\n",
    "            else:\n",
    "                i+=1\n",
    "        \n",
    "        sign=str[i]\n",
    "        if (sign in \"+-\"):\n",
    "            i+=1\n",
    "        \n",
    "        for char_idx in range(i,len(str)):\n",
    "            if (str[char_idx] not in \"0123456789\"):\n",
    "                break\n",
    "            else:\n",
    "                curr_digit=int(str[char_idx])\n",
    "                num=(num*10)+curr_digit\n",
    "                \n",
    "        \n",
    "        if (sign == '-'):\n",
    "            num *= -1\n",
    "        if (num > 2147483647):\n",
    "            num = 2147483647\n",
    "        if (num < -2147483648):\n",
    "            num = -2147483648\n",
    "        \n",
    "        return num\n",
    "            "
   ]
  },
  {
   "cell_type": "markdown",
   "metadata": {},
   "source": [
    "#28 Implement strStr().\n",
    "\n",
    "Return the index of the first occurrence of needle in haystack, or -1 if needle is not part of haystack.\n",
    "\n",
    "Example 1:\n",
    "\n",
    "Input: haystack = \"hello\", needle = \"ll\"\n",
    "Output: 2\n",
    "Example 2:\n",
    "\n",
    "Input: haystack = \"aaaaa\", needle = \"bba\"\n",
    "Output: -1\n",
    "Clarification:"
   ]
  },
  {
   "cell_type": "code",
   "execution_count": null,
   "metadata": {},
   "outputs": [],
   "source": [
    "#Time Complexity: (O(n)), Space Complexity: O(1)\n",
    "class Solution:\n",
    "    def strStr(self, haystack: str, needle: str) -> int:\n",
    "        if not needle:\n",
    "            return 0\n",
    "        needle_len=len(needle)\n",
    "        for i in range(len(haystack)-needle_len+1):\n",
    "            print(i)\n",
    "            if haystack[i:i+needle_len]==needle:\n",
    "                return i\n",
    "        \n",
    "        return -1\n",
    "        "
   ]
  },
  {
   "cell_type": "markdown",
   "metadata": {},
   "source": [
    "#344 Reverse String\n",
    "\n",
    "Write a function that reverses a string. The input string is given as an array of characters char[].\n",
    "\n",
    "Do not allocate extra space for another array, you must do this by modifying the input array in-place with O(1) extra memory.\n",
    "\n",
    "You may assume all the characters consist of printable ascii characters."
   ]
  },
  {
   "cell_type": "code",
   "execution_count": null,
   "metadata": {},
   "outputs": [],
   "source": [
    "#Time Complexity O(n) Space Complexity O(1)\n",
    "class Solution:\n",
    "    def reverseString(self, s: List[str]) -> None:\n",
    "        \"\"\"\n",
    "        Do not return anything, modify s in-place instead.\n",
    "        \"\"\"\n",
    "        \n",
    "        for i in range((len(s)//2)):\n",
    "            tmp=s[i]\n",
    "            s[i]=s[-i-1]\n",
    "            s[-i-1]=tmp"
   ]
  },
  {
   "cell_type": "markdown",
   "metadata": {},
   "source": [
    "#387 <br>\n",
    "Given a string, find the first non-repeating character in it and return it's index. If it doesn't exist, return -1."
   ]
  },
  {
   "cell_type": "code",
   "execution_count": null,
   "metadata": {},
   "outputs": [],
   "source": [
    "#Time Complexity O(n) Space Complexity O(n)\n",
    "def firstUniqChar(s):\n",
    "        dict_1={}\n",
    "        for i in range(len(s)):\n",
    "            if s[i] not in dict_1:\n",
    "                dict_1[s[i]]=1\n",
    "            else:\n",
    "                dict_1[s[i]]+=1\n",
    "                \n",
    "        for i in dict_1:\n",
    "            if dict_1[i]==1:\n",
    "                return s.index(i)\n",
    "        \n",
    "        return -1"
   ]
  },
  {
   "cell_type": "markdown",
   "metadata": {},
   "source": [
    "#3 <br>\n",
    "Given a string, find the length of the longest substring without repeating characters."
   ]
  },
  {
   "cell_type": "code",
   "execution_count": null,
   "metadata": {},
   "outputs": [],
   "source": [
    "#Time Complexity O(n) Space Complexity O(n)\n",
    "class Solution(object):\n",
    "    def lengthOfLongestSubstring(self, s):\n",
    "        if not s:\n",
    "            return 0\n",
    "        \n",
    "        start=0\n",
    "        maxLength=0\n",
    "        usedChar={}\n",
    "        \n",
    "        for i in range(len(s)):\n",
    "            if s[i] in usedChar and start <= usedChar[s[i]]:\n",
    "                start=usedChar[s[i]]+1\n",
    "            else:\n",
    "                maxLength=max(maxLength, i-start+1)\n",
    "            \n",
    "            usedChar[s[i]]=i \n",
    "\n",
    "           \n",
    "            \n",
    "        return maxLength\n",
    "                     "
   ]
  },
  {
   "cell_type": "markdown",
   "metadata": {},
   "source": [
    "#5 <br>\n",
    "Given a string s, find the longest palindromic substring in s. You may assume that the maximum length of s is 1000."
   ]
  },
  {
   "cell_type": "code",
   "execution_count": null,
   "metadata": {},
   "outputs": [],
   "source": [
    "#Time Complexity: O(n^2), Space Complexity: O(n^2)\n",
    "class Solution(object):\n",
    "    def longestPalindrome(self, s):\n",
    "        \n",
    "        ans=''\n",
    "        if len(s)==0:\n",
    "            return ans\n",
    "        \n",
    "        for i in range(len(s)):\n",
    "            \n",
    "            #odd case\n",
    "            tmp=self.helper(s,i,i)\n",
    "            if len(tmp)>len(ans):\n",
    "                ans=tmp\n",
    "\n",
    "            #even case\n",
    "            tmp=self.helper(s,i,i+1)\n",
    "            if len(tmp)>len(ans):\n",
    "                ans=tmp\n",
    "        \n",
    "        return ans\n",
    "    \n",
    "    def helper(self,  s, l, r):\n",
    "        while l>=0 and r<len(s) and s[l] == s[r]:\n",
    "            l-=1\n",
    "            r+=1\n",
    "        return s[l+1:r]\n",
    "       "
   ]
  },
  {
   "cell_type": "markdown",
   "metadata": {},
   "source": [
    "#163 <br>\n",
    "Given a sorted integer array nums, where the range of elements are in the inclusive range [lower, upper], return its missing ranges.\n",
    "Example:\n",
    "Input: nums = [0, 1, 3, 50, 75], lower = 0 and upper = 99,\n",
    "Output: [\"2\", \"4->49\", \"51->74\", \"76->99\"]"
   ]
  },
  {
   "cell_type": "code",
   "execution_count": 15,
   "metadata": {},
   "outputs": [],
   "source": [
    "# O(n) time, O(n) space\n",
    "\n",
    "def findMissingRanges(self, nums, lower, upper):\n",
    "    nums.append(upper+1)\n",
    "    output=[]\n",
    "    previous=lower-1\n",
    "    \n",
    "    for num in nums:\n",
    "        if (num == previous+2):\n",
    "            output.append(str(num-1))\n",
    "        if (num > previous+2):\n",
    "            output.append(str(previous+1)+'->'+str(num-1))\n",
    "        previous=num\n",
    "        \n",
    "    \n",
    "    return output"
   ]
  },
  {
   "cell_type": "markdown",
   "metadata": {},
   "source": [
    "#49 Group Anagrams Together\n",
    "\n",
    "Given an array of strings, group anagrams together."
   ]
  },
  {
   "cell_type": "code",
   "execution_count": null,
   "metadata": {},
   "outputs": [],
   "source": [
    "#Time Complexity O(mnlogn) space complexity: O(m*n)\n",
    "class Solution:\n",
    "    def groupAnagrams(self, strs: List[str]) -> List[List[str]]:\n",
    "        output=[]\n",
    "        if not strs:\n",
    "            return output\n",
    "        \n",
    "        resp={}\n",
    "        for i in range(len(strs)):\n",
    "            if ''.join(sorted(strs[i])) not in resp:\n",
    "                resp[''.join(sorted(strs[i]))]=[strs[i]]\n",
    "            else:\n",
    "                resp[''.join(sorted(strs[i]))].append(strs[i])\n",
    "                \n",
    "        print(resp)\n",
    "        \n",
    "        \n",
    "        return [resp[i] for i in resp]"
   ]
  },
  {
   "cell_type": "code",
   "execution_count": null,
   "metadata": {},
   "outputs": [],
   "source": []
  }
 ],
 "metadata": {
  "kernelspec": {
   "display_name": "Python 3",
   "language": "python",
   "name": "python3"
  },
  "language_info": {
   "codemirror_mode": {
    "name": "ipython",
    "version": 3
   },
   "file_extension": ".py",
   "mimetype": "text/x-python",
   "name": "python",
   "nbconvert_exporter": "python",
   "pygments_lexer": "ipython3",
   "version": "3.6.5"
  }
 },
 "nbformat": 4,
 "nbformat_minor": 2
}
