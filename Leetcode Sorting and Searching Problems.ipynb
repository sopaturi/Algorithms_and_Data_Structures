{
 "cells": [
  {
   "cell_type": "markdown",
   "metadata": {},
   "source": [
    "# Leetcode Sorting and Searching Problems"
   ]
  },
  {
   "cell_type": "markdown",
   "metadata": {},
   "source": [
    "#278 First Bad Version <br>\n",
    "\n",
    "You are a product manager and currently leading a team to develop a new product. Unfortunately, the latest version of your product fails the quality check. Since each version is developed based on the previous version, all the versions after a bad version are also bad.\n",
    "\n",
    "Suppose you have n versions [1, 2, ..., n] and you want to find out the first bad one, which causes all the following ones to be bad.\n",
    "\n",
    "You are given an API bool isBadVersion(version) which will return whether version is bad. Implement a function to find the first bad version. You should minimize the number of calls to the API."
   ]
  },
  {
   "cell_type": "code",
   "execution_count": null,
   "metadata": {},
   "outputs": [],
   "source": [
    "#Time Complexity: O(logn), Space Complexity: O(1)\n",
    "\n",
    "class Solution:\n",
    "    def firstBadVersion(self, n):\n",
    "        \"\"\"\n",
    "        :type n: int\n",
    "        :rtype: int\n",
    "        \"\"\"\n",
    "        \n",
    "        \n",
    "        low=1\n",
    "        high=n\n",
    "        \n",
    "        while low <= high:\n",
    "\n",
    "            median=(high+low)//2\n",
    "            if isBadVersion(median):\n",
    "                high=median-1\n",
    "            \n",
    "            else:\n",
    "                low=median+1\n",
    "                \n",
    "        return low\n",
    "        "
   ]
  },
  {
   "cell_type": "markdown",
   "metadata": {},
   "source": [
    "33. Search in Rotated Sorted Array <br>\n",
    "Suppose an array sorted in ascending order is rotated at some pivot unknown to you beforehand.\n",
    "\n",
    "(i.e., [0,1,2,4,5,6,7] might become [4,5,6,7,0,1,2]).\n",
    "\n",
    "You are given a target value to search. If found in the array return its index, otherwise return -1.\n",
    "\n",
    "You may assume no duplicate exists in the array.\n",
    "\n",
    "Your algorithm's runtime complexity must be in the order of O(log n)."
   ]
  },
  {
   "cell_type": "code",
   "execution_count": null,
   "metadata": {},
   "outputs": [],
   "source": [
    "#Time Complexity: O(logn), Space Complexity: O(1)\n",
    "\n",
    "class Solution:\n",
    "    def search(self, nums: List[int], target: int) -> int:\n",
    "        if not nums:\n",
    "            return -1\n",
    "        \n",
    "        start=0\n",
    "        stop=len(nums)-1\n",
    "        \n",
    "        while start <= stop:\n",
    "            median = (start + stop)//2\n",
    "            if nums[median]==target:\n",
    "                return median\n",
    "            if nums[median] < nums[stop]:\n",
    "                if nums[median] < target<=nums[stop]:\n",
    "                    start=median+1\n",
    "                else:\n",
    "                    stop=median-1\n",
    "                \n",
    "            else:\n",
    "                if nums[start]<=target<nums[median]:\n",
    "                    stop=median-1\n",
    "                \n",
    "                else:\n",
    "                    start=median+1\n",
    "                    \n",
    "        \n",
    "        return -1"
   ]
  },
  {
   "cell_type": "markdown",
   "metadata": {},
   "source": [
    "34. Find First and Last Position of Element in Sorted Array\n",
    "\n",
    "Given an array of integers nums sorted in ascending order, find the starting and ending position of a given target value.\n",
    "\n",
    "Your algorithm's runtime complexity must be in the order of O(log n).\n",
    "\n",
    "If the target is not found in the array, return [-1, -1]."
   ]
  },
  {
   "cell_type": "code",
   "execution_count": null,
   "metadata": {},
   "outputs": [],
   "source": [
    "#Time Complexity: O(logn), Space Complexity: O(1)\n",
    "\n",
    "class Solution:\n",
    "    def searchRange(self, nums: List[int], target: int) -> List[int]:\n",
    "        if not nums:\n",
    "            return [-1,-1]\n",
    "        \n",
    "        \n",
    "        start=0\n",
    "        stop=len(nums)-1\n",
    "        while start<=stop:\n",
    "            median=(start+stop)//2\n",
    "            if nums[median]<=target:\n",
    "                start=median+1\n",
    "            else:\n",
    "                stop=median-1\n",
    "        \n",
    "        right_result=stop\n",
    "        \n",
    "        start=0\n",
    "        stop=len(nums)-1\n",
    "        \n",
    "        while start<=stop:\n",
    "            median=(start+stop)//2\n",
    "            if nums[median]<target:\n",
    "                start=median+1\n",
    "            else:\n",
    "                stop=median-1\n",
    "        left_result=start\n",
    "                \n",
    "        if left_result<=right_result:\n",
    "            return [left_result, right_result]\n",
    "        \n",
    "        return [-1, -1]\n",
    "        "
   ]
  },
  {
   "cell_type": "markdown",
   "metadata": {},
   "source": [
    "#75 Sort Colors\n",
    "\n",
    "Given an array with n objects colored red, white or blue, sort them in-place so that objects of the same color are adjacent, with the colors in the order red, white and blue.\n",
    "\n",
    "Here, we will use the integers 0, 1, and 2 to represent the color red, white, and blue respectively.\n",
    "\n",
    "Note: You are not suppose to use the library's sort function for this problem."
   ]
  },
  {
   "cell_type": "code",
   "execution_count": null,
   "metadata": {},
   "outputs": [],
   "source": [
    "#Time Complexity: O(n), Space Complexity: O(n)\n",
    "class Solution:\n",
    "    def sortColors(self, nums: List[int]) -> None:\n",
    "        \"\"\"\n",
    "        Do not return anything, modify nums in-place instead.\n",
    "        \"\"\"\n",
    "        colors={}\n",
    "        for i in range(len(nums)):\n",
    "            if nums[i] not in colors:\n",
    "                colors[nums[i]]=1\n",
    "            else:\n",
    "                colors[nums[i]]+=1\n",
    "        \n",
    "        index=0\n",
    "        for i in range(3):\n",
    "            if i in colors:\n",
    "                for j in range(colors[i]):\n",
    "                    nums[index]=i\n",
    "                    index+=1\n",
    "                    "
   ]
  },
  {
   "cell_type": "markdown",
   "metadata": {},
   "source": [
    "#240 Search a 2D Matrix II\n",
    "\n",
    "Write an efficient algorithm that searches for a value in an m x n matrix. This matrix has the following properties:\n",
    "\n",
    "Integers in each row are sorted in ascending from left to right.\n",
    "Integers in each column are sorted in ascending from top to bottom."
   ]
  },
  {
   "cell_type": "code",
   "execution_count": null,
   "metadata": {},
   "outputs": [],
   "source": [
    "\n",
    "#Time Complexity:O(m+n), Space Complexity: O(1)\n",
    "class Solution:\n",
    "    def searchMatrix(self, matrix, target):\n",
    "        if not target or not matrix:\n",
    "            return False\n",
    "        \n",
    "        width=len(matrix[0])-1\n",
    "        height=0\n",
    "        \n",
    "       \n",
    "        \n",
    "        while width>=0 and height<len(matrix):\n",
    "            \n",
    "            num=matrix[height][width]\n",
    "            print(num)\n",
    "            \n",
    "            if num == target:\n",
    "                return True\n",
    "            elif num>target:\n",
    "                width-=1\n",
    "            \n",
    "            else:\n",
    "                height+=1\n",
    "        \n",
    "        \n",
    "        return False"
   ]
  },
  {
   "cell_type": "code",
   "execution_count": null,
   "metadata": {},
   "outputs": [],
   "source": []
  }
 ],
 "metadata": {
  "kernelspec": {
   "display_name": "Python 3",
   "language": "python",
   "name": "python3"
  },
  "language_info": {
   "codemirror_mode": {
    "name": "ipython",
    "version": 3
   },
   "file_extension": ".py",
   "mimetype": "text/x-python",
   "name": "python",
   "nbconvert_exporter": "python",
   "pygments_lexer": "ipython3",
   "version": "3.6.5"
  }
 },
 "nbformat": 4,
 "nbformat_minor": 2
}
