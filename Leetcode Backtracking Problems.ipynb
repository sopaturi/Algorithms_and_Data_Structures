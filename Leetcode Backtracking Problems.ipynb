{
 "cells": [
  {
   "cell_type": "markdown",
   "metadata": {},
   "source": [
    "# Leetcode Backtracking Problems"
   ]
  },
  {
   "cell_type": "markdown",
   "metadata": {},
   "source": [
    "17. Letter Combinations of a Phone Number <br>\n",
    "\n",
    "Given a string containing digits from 2-9 inclusive, return all possible letter combinations that the number could represent.\n",
    "\n",
    "A mapping of digit to letters (just like on the telephone buttons) is given below. Note that 1 does not map to any letters."
   ]
  },
  {
   "cell_type": "code",
   "execution_count": null,
   "metadata": {},
   "outputs": [],
   "source": [
    "#Time Complexity: (3 ^N*4 ^ M)\n",
    "#Space Complexity: (3^N*4^M)\n",
    " \n",
    "class Solution:\n",
    "    def combinations(self, digits, mapping, output, strs):\n",
    "        \n",
    "        if not digits:\n",
    "            output.append(strs)\n",
    "        else:\n",
    "            for i in (mapping[digits[0]]):\n",
    "                self.combinations(digits[1:], mapping, output, strs+i)\n",
    "\n",
    "\n",
    "\n",
    "        return output\n",
    "        \n",
    "    def letterCombinations(self, digits: str) -> List[str]:\n",
    "        output=[]\n",
    "        if not digits:\n",
    "            return output\n",
    "        mapping={'2':'abc', '3': 'def', '4':['g', 'h', 'i'], '5':['j', 'k', 'l'],\n",
    "                 '6': ['m', 'n', 'o'], '7': ['p', 'q', 'r', 's'], \n",
    "                 '8': ['t', 'u', 'v'], '9': ['w', 'x', 'y', 'z']}\n",
    "        \n",
    "        strs=''\n",
    "            \n",
    "        return self.combinations(digits, mapping, output, strs)\n",
    "        "
   ]
  },
  {
   "cell_type": "markdown",
   "metadata": {},
   "source": [
    "#22 Generate Parentheses\n",
    "\n",
    "Given n pairs of parentheses, write a function to generate all combinations of well-formed parentheses.\n"
   ]
  },
  {
   "cell_type": "code",
   "execution_count": null,
   "metadata": {},
   "outputs": [],
   "source": [
    "class Solution:\n",
    "    def generateParenthesis(self, n: int) -> List[str]:\n",
    "        output=[]\n",
    "        self.combinations(n, n, output, '')\n",
    "        return output\n",
    "    \n",
    "    def combinations(self, left, right, output, curr):\n",
    "        \n",
    "        if left>right or left<0 or right<0:\n",
    "            return\n",
    "        if left == 0 and right == 0:\n",
    "            output.append(curr)\n",
    "            return\n",
    "        \n",
    "        self.combinations(left-1, right, output, curr+'(')\n",
    "        self.combinations(left, right-1, output, curr + ')')\n",
    "        \n",
    "        \n",
    "\n",
    "   "
   ]
  },
  {
   "cell_type": "markdown",
   "metadata": {},
   "source": [
    "#46 Given a collection of distinct integers, return all possible permutations."
   ]
  },
  {
   "cell_type": "code",
   "execution_count": null,
   "metadata": {},
   "outputs": [],
   "source": [
    "#Time: O(n * n!)\n",
    "#Space: O(n * n!)\n",
    "\n",
    "class Solution:\n",
    "   \n",
    "    def comb(self, nums, curr, output):\n",
    "        \n",
    "        if (len(curr)==len(nums)):\n",
    "            output.append(curr)\n",
    "            return\n",
    "            \n",
    "        \n",
    "        for i in nums:\n",
    "            if i not in curr:\n",
    "                self.comb(nums, curr+[i], output)\n",
    "        \n",
    "        return output\n",
    "        \n",
    "    def permute(self, nums: List[int]) -> List[List[int]]:    \n",
    "     \n",
    "        \n",
    "        return self.comb(nums, [], [])\n",
    "        \n",
    "   "
   ]
  },
  {
   "cell_type": "markdown",
   "metadata": {},
   "source": [
    "#78\n",
    "\n",
    "Given a set of distinct integers, nums, return all possible subsets (the power set). "
   ]
  },
  {
   "cell_type": "code",
   "execution_count": null,
   "metadata": {},
   "outputs": [],
   "source": [
    "class Solution:\n",
    "    def backtrack(self, complete, current, nums, start):\n",
    "        complete.append(current)\n",
    "\n",
    "        for i in range(start, len(nums)):\n",
    "            self.backtrack(complete, current + [nums[i]], nums, i + 1)\n",
    "        \n",
    "        return complete\n",
    "        \n",
    "    def subsets(self, nums):\n",
    "        return self.backtrack([], [], nums, 0)"
   ]
  }
 ],
 "metadata": {
  "kernelspec": {
   "display_name": "Python 3",
   "language": "python",
   "name": "python3"
  },
  "language_info": {
   "codemirror_mode": {
    "name": "ipython",
    "version": 3
   },
   "file_extension": ".py",
   "mimetype": "text/x-python",
   "name": "python",
   "nbconvert_exporter": "python",
   "pygments_lexer": "ipython3",
   "version": "3.6.5"
  }
 },
 "nbformat": 4,
 "nbformat_minor": 2
}
